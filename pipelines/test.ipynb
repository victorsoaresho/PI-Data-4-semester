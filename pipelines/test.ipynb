{
 "cells": [
  {
   "cell_type": "code",
   "execution_count": 10,
   "id": "d662990e",
   "metadata": {},
   "outputs": [],
   "source": [
    "import sys\n",
    "import os\n",
    "sys.path.append(os.path.abspath(\"...\"))\n"
   ]
  },
  {
   "cell_type": "code",
   "execution_count": 1,
   "id": "485a0f6f",
   "metadata": {},
   "outputs": [],
   "source": [
    "from typing import Dict\n",
    "from src.config import (\n",
    "    MONGO_CONNECTION_STRING, MONGO_DB_NAME, MONGO_COLLECTION_NAME, FRANCA_LATITUDE, FRANCA_LONGITUDE\n",
    ")\n",
    "\n",
    "from src.database.mongo_handler import MongoHandler"
   ]
  },
  {
   "cell_type": "code",
   "execution_count": null,
   "id": "07474669",
   "metadata": {},
   "outputs": [
    {
     "name": "stdout",
     "output_type": "stream",
     "text": [
      "Conexão com MongoDB estabelecida com sucesso!\n",
      "Encontrados 78 documentos na coleção 'climate-data' com a query: {}\n",
      "Conexão com MongoDB fechada.\n"
     ]
    }
   ],
   "source": [
    "query_especifica = {\"status\": \"ativo\"}\n",
    "\n",
    "\n",
    "with MongoHandler(MONGO_CONNECTION_STRING, MONGO_DB_NAME) as mongo:\n",
    "    # Passando a query como segundo parâmetro\n",
    "    data = mongo.find_all(MONGO_COLLECTION_NAME)\n",
    "    \n",
    "    data.head()"
   ]
  },
  {
   "cell_type": "code",
   "execution_count": 3,
   "id": "5fe04bdc",
   "metadata": {},
   "outputs": [
    {
     "data": {
      "text/html": [
       "<div>\n",
       "<style scoped>\n",
       "    .dataframe tbody tr th:only-of-type {\n",
       "        vertical-align: middle;\n",
       "    }\n",
       "\n",
       "    .dataframe tbody tr th {\n",
       "        vertical-align: top;\n",
       "    }\n",
       "\n",
       "    .dataframe thead th {\n",
       "        text-align: right;\n",
       "    }\n",
       "</style>\n",
       "<table border=\"1\" class=\"dataframe\">\n",
       "  <thead>\n",
       "    <tr style=\"text-align: right;\">\n",
       "      <th></th>\n",
       "      <th>_id</th>\n",
       "      <th>dia</th>\n",
       "      <th>codigo_clima</th>\n",
       "      <th>temperatura_max_c</th>\n",
       "      <th>temperatura_min_c</th>\n",
       "      <th>umidade_media_percent</th>\n",
       "      <th>indice_uv_max</th>\n",
       "    </tr>\n",
       "  </thead>\n",
       "  <tbody>\n",
       "    <tr>\n",
       "      <th>0</th>\n",
       "      <td>684756cf7d9b01b92928959e</td>\n",
       "      <td>2025-03-30</td>\n",
       "      <td>95.0</td>\n",
       "      <td>28.7</td>\n",
       "      <td>18.7</td>\n",
       "      <td>75.0</td>\n",
       "      <td>NaN</td>\n",
       "    </tr>\n",
       "    <tr>\n",
       "      <th>1</th>\n",
       "      <td>684756cf7d9b01b92928959f</td>\n",
       "      <td>2025-03-31</td>\n",
       "      <td>80.0</td>\n",
       "      <td>26.4</td>\n",
       "      <td>19.5</td>\n",
       "      <td>84.0</td>\n",
       "      <td>NaN</td>\n",
       "    </tr>\n",
       "    <tr>\n",
       "      <th>2</th>\n",
       "      <td>684756cf7d9b01b9292895a0</td>\n",
       "      <td>2025-04-01</td>\n",
       "      <td>45.0</td>\n",
       "      <td>28.0</td>\n",
       "      <td>18.0</td>\n",
       "      <td>77.0</td>\n",
       "      <td>NaN</td>\n",
       "    </tr>\n",
       "    <tr>\n",
       "      <th>3</th>\n",
       "      <td>684756cf7d9b01b9292895a1</td>\n",
       "      <td>2025-04-02</td>\n",
       "      <td>80.0</td>\n",
       "      <td>28.7</td>\n",
       "      <td>19.6</td>\n",
       "      <td>76.0</td>\n",
       "      <td>NaN</td>\n",
       "    </tr>\n",
       "    <tr>\n",
       "      <th>4</th>\n",
       "      <td>684756cf7d9b01b9292895a2</td>\n",
       "      <td>2025-04-03</td>\n",
       "      <td>45.0</td>\n",
       "      <td>27.7</td>\n",
       "      <td>18.4</td>\n",
       "      <td>81.0</td>\n",
       "      <td>NaN</td>\n",
       "    </tr>\n",
       "  </tbody>\n",
       "</table>\n",
       "</div>"
      ],
      "text/plain": [
       "                        _id        dia  codigo_clima  temperatura_max_c  \\\n",
       "0  684756cf7d9b01b92928959e 2025-03-30          95.0               28.7   \n",
       "1  684756cf7d9b01b92928959f 2025-03-31          80.0               26.4   \n",
       "2  684756cf7d9b01b9292895a0 2025-04-01          45.0               28.0   \n",
       "3  684756cf7d9b01b9292895a1 2025-04-02          80.0               28.7   \n",
       "4  684756cf7d9b01b9292895a2 2025-04-03          45.0               27.7   \n",
       "\n",
       "   temperatura_min_c  umidade_media_percent  indice_uv_max  \n",
       "0               18.7                   75.0            NaN  \n",
       "1               19.5                   84.0            NaN  \n",
       "2               18.0                   77.0            NaN  \n",
       "3               19.6                   76.0            NaN  \n",
       "4               18.4                   81.0            NaN  "
      ]
     },
     "execution_count": 3,
     "metadata": {},
     "output_type": "execute_result"
    }
   ],
   "source": [
    "data.head()"
   ]
  },
  {
   "cell_type": "code",
   "execution_count": null,
   "id": "5bc769fc",
   "metadata": {},
   "outputs": [],
   "source": []
  }
 ],
 "metadata": {
  "kernelspec": {
   "display_name": "libs",
   "language": "python",
   "name": "python3"
  },
  "language_info": {
   "codemirror_mode": {
    "name": "ipython",
    "version": 3
   },
   "file_extension": ".py",
   "mimetype": "text/x-python",
   "name": "python",
   "nbconvert_exporter": "python",
   "pygments_lexer": "ipython3",
   "version": "3.12.3"
  }
 },
 "nbformat": 4,
 "nbformat_minor": 5
}
